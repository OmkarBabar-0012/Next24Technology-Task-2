{
 "cells": [
  {
   "cell_type": "markdown",
   "id": "a26a939c",
   "metadata": {},
   "source": [
    "# 2. E-commerce Product Recommendation System"
   ]
  },
  {
   "cell_type": "code",
   "execution_count": 28,
   "id": "44ff018f",
   "metadata": {},
   "outputs": [],
   "source": [
    "import warnings\n",
    "warnings.filterwarnings('ignore')\n",
    "\n",
    "import numpy as np\n",
    "import pandas as pd\n",
    "\n",
    "import matplotlib.pyplot as plt\n",
    "import seaborn as sns\n",
    "\n",
    "from sklearn.metrics.pairwise import cosine_similarity\n",
    "\n",
    "from sklearn.metrics import mean_squared_error\n",
    "\n",
    "from scipy.sparse.linalg import svds # for sparse matrices"
   ]
  },
  {
   "cell_type": "code",
   "execution_count": 29,
   "id": "fd5c6448",
   "metadata": {},
   "outputs": [],
   "source": [
    "#Import the data set\n",
    "df = pd.read_csv(r'C:\\Users\\91702\\Downloads\\ratings_Electronics.csv\\ratings_Electronics.csv', header=None) #There are no headers in the data file\n",
    "\n",
    "df.columns = ['user_id', 'prod_id', 'rating', 'timestamp'] #Adding column names\n",
    "\n",
    "df = df.drop('timestamp', axis=1) #Dropping timestamp\n",
    "\n",
    "df_copy = df.copy(deep=True) #Copying the data to another dataframe"
   ]
  },
  {
   "cell_type": "code",
   "execution_count": 30,
   "id": "bc21d526",
   "metadata": {},
   "outputs": [
    {
     "name": "stdout",
     "output_type": "stream",
     "text": [
      "No of rows =  7824482\n",
      "No of columns =  3\n"
     ]
    }
   ],
   "source": [
    "rows, columns = df.shape\n",
    "print(\"No of rows = \", rows)\n",
    "print(\"No of columns = \", columns)"
   ]
  },
  {
   "cell_type": "code",
   "execution_count": 31,
   "id": "50514a9e",
   "metadata": {},
   "outputs": [
    {
     "name": "stdout",
     "output_type": "stream",
     "text": [
      "<class 'pandas.core.frame.DataFrame'>\n",
      "RangeIndex: 7824482 entries, 0 to 7824481\n",
      "Data columns (total 3 columns):\n",
      " #   Column   Dtype  \n",
      "---  ------   -----  \n",
      " 0   user_id  object \n",
      " 1   prod_id  object \n",
      " 2   rating   float64\n",
      "dtypes: float64(1), object(2)\n",
      "memory usage: 179.1+ MB\n"
     ]
    }
   ],
   "source": [
    "df.info()"
   ]
  },
  {
   "cell_type": "code",
   "execution_count": 32,
   "id": "09312e16",
   "metadata": {},
   "outputs": [
    {
     "data": {
      "text/plain": [
       "user_id    0\n",
       "prod_id    0\n",
       "rating     0\n",
       "dtype: int64"
      ]
     },
     "execution_count": 32,
     "metadata": {},
     "output_type": "execute_result"
    }
   ],
   "source": [
    "# Find number of missing values in each column\n",
    "df.isna().sum()"
   ]
  },
  {
   "cell_type": "code",
   "execution_count": 33,
   "id": "89c89ace",
   "metadata": {},
   "outputs": [
    {
     "data": {
      "text/plain": [
       "count    7.824482e+06\n",
       "mean     4.012337e+00\n",
       "std      1.380910e+00\n",
       "min      1.000000e+00\n",
       "25%      3.000000e+00\n",
       "50%      5.000000e+00\n",
       "75%      5.000000e+00\n",
       "max      5.000000e+00\n",
       "Name: rating, dtype: float64"
      ]
     },
     "execution_count": 33,
     "metadata": {},
     "output_type": "execute_result"
    }
   ],
   "source": [
    "# Summary statistics of 'rating' variable\n",
    "df['rating'].describe()"
   ]
  },
  {
   "cell_type": "code",
   "execution_count": 34,
   "id": "b3dcd4e1",
   "metadata": {},
   "outputs": [
    {
     "data": {
      "image/png": "[encoded data removed]",
      "text/plain": [
       "<Figure size 864x432 with 1 Axes>"
      ]
     },
     "metadata": {
      "needs_background": "light"
     },
     "output_type": "display_data"
    }
   ],
   "source": [
    "#Create the plot and provide observations\n",
    "\n",
    "plt.figure(figsize = (12,6))\n",
    "df['rating'].value_counts(1).plot(kind='bar')\n",
    "plt.show()"
   ]
  },
  {
   "cell_type": "code",
   "execution_count": 35,
   "id": "8ef1cecd",
   "metadata": {},
   "outputs": [
    {
     "name": "stdout",
     "output_type": "stream",
     "text": [
      "Number of unique USERS in Raw data =  4201696\n",
      "Number of unique ITEMS in Raw data =  476002\n"
     ]
    }
   ],
   "source": [
    "# Number of unique user id and product id in the data\n",
    "print('Number of unique USERS in Raw data = ', df['user_id'].nunique())\n",
    "print('Number of unique ITEMS in Raw data = ', df['prod_id'].nunique())"
   ]
  },
  {
   "cell_type": "code",
   "execution_count": 36,
   "id": "bcbf50d4",
   "metadata": {},
   "outputs": [
    {
     "data": {
      "text/plain": [
       "user_id\n",
       "A5JLAU2ARJ0BO     520\n",
       "ADLVFFE4VBT8      501\n",
       "A3OXHLG6DIBRW8    498\n",
       "A6FIAB28IS79      431\n",
       "A680RUE1FDO8B     406\n",
       "A1ODOGXEYECQQ8    380\n",
       "A36K2N527TXXJN    314\n",
       "A2AY4YUOX2N1BQ    311\n",
       "AWPODHOB4GFWL     308\n",
       "A25C2M3QF9G7OQ    296\n",
       "dtype: int64"
      ]
     },
     "execution_count": 36,
     "metadata": {},
     "output_type": "execute_result"
    }
   ],
   "source": [
    "# Top 10 users based on rating\n",
    "most_rated = df.groupby('user_id').size().sort_values(ascending=False)[:10]\n",
    "most_rated"
   ]
  },
  {
   "cell_type": "code",
   "execution_count": 37,
   "id": "cf34fce4",
   "metadata": {},
   "outputs": [],
   "source": [
    "counts = df['user_id'].value_counts()\n",
    "df_final = df[df['user_id'].isin(counts[counts >= 50].index)]"
   ]
  },
  {
   "cell_type": "code",
   "execution_count": 38,
   "id": "d14e0bc2",
   "metadata": {},
   "outputs": [
    {
     "name": "stdout",
     "output_type": "stream",
     "text": [
      "The number of observations in the final data = 125871\n",
      "Number of unique USERS in the final data =  1540\n",
      "Number of unique PRODUCTS in the final data =  48190\n"
     ]
    }
   ],
   "source": [
    "print('The number of observations in the final data =', len(df_final))\n",
    "print('Number of unique USERS in the final data = ', df_final['user_id'].nunique())\n",
    "print('Number of unique PRODUCTS in the final data = ', df_final['prod_id'].nunique())"
   ]
  },
  {
   "cell_type": "code",
   "execution_count": 39,
   "id": "e3ec6697",
   "metadata": {},
   "outputs": [
    {
     "name": "stdout",
     "output_type": "stream",
     "text": [
      "Shape of final_ratings_matrix:  (1540, 48190)\n",
      "given_num_of_ratings =  125871\n",
      "possible_num_of_ratings =  74212600\n",
      "density: 0.17%\n"
     ]
    },
    {
     "data": {
      "text/html": [
       "<div>\n",
       "<style scoped>\n",
       "    .dataframe tbody tr th:only-of-type {\n",
       "        vertical-align: middle;\n",
       "    }\n",
       "\n",
       "    .dataframe tbody tr th {\n",
       "        vertical-align: top;\n",
       "    }\n",
       "\n",
       "    .dataframe thead th {\n",
       "        text-align: right;\n",
       "    }\n",
       "</style>\n",
       "<table border=\"1\" class=\"dataframe\">\n",
       "  <thead>\n",
       "    <tr style=\"text-align: right;\">\n",
       "      <th>prod_id</th>\n",
       "      <th>0594451647</th>\n",
       "      <th>0594481813</th>\n",
       "      <th>0970407998</th>\n",
       "      <th>0972683275</th>\n",
       "      <th>1400501466</th>\n",
       "      <th>1400501520</th>\n",
       "      <th>1400501776</th>\n",
       "      <th>1400532620</th>\n",
       "      <th>1400532655</th>\n",
       "      <th>140053271X</th>\n",
       "      <th>...</th>\n",
       "      <th>B00L5YZCCG</th>\n",
       "      <th>B00L8I6SFY</th>\n",
       "      <th>B00L8QCVL6</th>\n",
       "      <th>B00LA6T0LS</th>\n",
       "      <th>B00LBZ1Z7K</th>\n",
       "      <th>B00LED02VY</th>\n",
       "      <th>B00LGN7Y3G</th>\n",
       "      <th>B00LGQ6HL8</th>\n",
       "      <th>B00LI4ZZO8</th>\n",
       "      <th>B00LKG1MC8</th>\n",
       "    </tr>\n",
       "    <tr>\n",
       "      <th>user_id</th>\n",
       "      <th></th>\n",
       "      <th></th>\n",
       "      <th></th>\n",
       "      <th></th>\n",
       "      <th></th>\n",
       "      <th></th>\n",
       "      <th></th>\n",
       "      <th></th>\n",
       "      <th></th>\n",
       "      <th></th>\n",
       "      <th></th>\n",
       "      <th></th>\n",
       "      <th></th>\n",
       "      <th></th>\n",
       "      <th></th>\n",
       "      <th></th>\n",
       "      <th></th>\n",
       "      <th></th>\n",
       "      <th></th>\n",
       "      <th></th>\n",
       "      <th></th>\n",
       "    </tr>\n",
       "  </thead>\n",
       "  <tbody>\n",
       "    <tr>\n",
       "      <th>A100UD67AHFODS</th>\n",
       "      <td>0.0</td>\n",
       "      <td>0.0</td>\n",
       "      <td>0.0</td>\n",
       "      <td>0.0</td>\n",
       "      <td>0.0</td>\n",
       "      <td>0.0</td>\n",
       "      <td>0.0</td>\n",
       "      <td>0.0</td>\n",
       "      <td>0.0</td>\n",
       "      <td>0.0</td>\n",
       "      <td>...</td>\n",
       "      <td>0.0</td>\n",
       "      <td>0.0</td>\n",
       "      <td>0.0</td>\n",
       "      <td>0.0</td>\n",
       "      <td>0.0</td>\n",
       "      <td>0.0</td>\n",
       "      <td>0.0</td>\n",
       "      <td>0.0</td>\n",
       "      <td>0.0</td>\n",
       "      <td>0.0</td>\n",
       "    </tr>\n",
       "    <tr>\n",
       "      <th>A100WO06OQR8BQ</th>\n",
       "      <td>0.0</td>\n",
       "      <td>0.0</td>\n",
       "      <td>0.0</td>\n",
       "      <td>0.0</td>\n",
       "      <td>0.0</td>\n",
       "      <td>0.0</td>\n",
       "      <td>0.0</td>\n",
       "      <td>0.0</td>\n",
       "      <td>0.0</td>\n",
       "      <td>0.0</td>\n",
       "      <td>...</td>\n",
       "      <td>0.0</td>\n",
       "      <td>0.0</td>\n",
       "      <td>0.0</td>\n",
       "      <td>0.0</td>\n",
       "      <td>0.0</td>\n",
       "      <td>0.0</td>\n",
       "      <td>0.0</td>\n",
       "      <td>0.0</td>\n",
       "      <td>0.0</td>\n",
       "      <td>0.0</td>\n",
       "    </tr>\n",
       "    <tr>\n",
       "      <th>A105S56ODHGJEK</th>\n",
       "      <td>0.0</td>\n",
       "      <td>0.0</td>\n",
       "      <td>0.0</td>\n",
       "      <td>0.0</td>\n",
       "      <td>0.0</td>\n",
       "      <td>0.0</td>\n",
       "      <td>0.0</td>\n",
       "      <td>0.0</td>\n",
       "      <td>0.0</td>\n",
       "      <td>0.0</td>\n",
       "      <td>...</td>\n",
       "      <td>0.0</td>\n",
       "      <td>0.0</td>\n",
       "      <td>0.0</td>\n",
       "      <td>0.0</td>\n",
       "      <td>0.0</td>\n",
       "      <td>0.0</td>\n",
       "      <td>0.0</td>\n",
       "      <td>0.0</td>\n",
       "      <td>0.0</td>\n",
       "      <td>0.0</td>\n",
       "    </tr>\n",
       "    <tr>\n",
       "      <th>A105TOJ6LTVMBG</th>\n",
       "      <td>0.0</td>\n",
       "      <td>0.0</td>\n",
       "      <td>0.0</td>\n",
       "      <td>0.0</td>\n",
       "      <td>0.0</td>\n",
       "      <td>0.0</td>\n",
       "      <td>0.0</td>\n",
       "      <td>0.0</td>\n",
       "      <td>0.0</td>\n",
       "      <td>0.0</td>\n",
       "      <td>...</td>\n",
       "      <td>0.0</td>\n",
       "      <td>0.0</td>\n",
       "      <td>0.0</td>\n",
       "      <td>0.0</td>\n",
       "      <td>0.0</td>\n",
       "      <td>0.0</td>\n",
       "      <td>0.0</td>\n",
       "      <td>0.0</td>\n",
       "      <td>0.0</td>\n",
       "      <td>0.0</td>\n",
       "    </tr>\n",
       "    <tr>\n",
       "      <th>A10AFVU66A79Y1</th>\n",
       "      <td>0.0</td>\n",
       "      <td>0.0</td>\n",
       "      <td>0.0</td>\n",
       "      <td>0.0</td>\n",
       "      <td>0.0</td>\n",
       "      <td>0.0</td>\n",
       "      <td>0.0</td>\n",
       "      <td>0.0</td>\n",
       "      <td>0.0</td>\n",
       "      <td>0.0</td>\n",
       "      <td>...</td>\n",
       "      <td>0.0</td>\n",
       "      <td>0.0</td>\n",
       "      <td>0.0</td>\n",
       "      <td>0.0</td>\n",
       "      <td>0.0</td>\n",
       "      <td>0.0</td>\n",
       "      <td>0.0</td>\n",
       "      <td>0.0</td>\n",
       "      <td>0.0</td>\n",
       "      <td>0.0</td>\n",
       "    </tr>\n",
       "  </tbody>\n",
       "</table>\n",
       "<p>5 rows × 48190 columns</p>\n",
       "</div>"
      ],
      "text/plain": [
       "prod_id         0594451647  0594481813  0970407998  0972683275  1400501466  \\\n",
       "user_id                                                                      \n",
       "A100UD67AHFODS         0.0         0.0         0.0         0.0         0.0   \n",
       "A100WO06OQR8BQ         0.0         0.0         0.0         0.0         0.0   \n",
       "A105S56ODHGJEK         0.0         0.0         0.0         0.0         0.0   \n",
       "A105TOJ6LTVMBG         0.0         0.0         0.0         0.0         0.0   \n",
       "A10AFVU66A79Y1         0.0         0.0         0.0         0.0         0.0   \n",
       "\n",
       "prod_id         1400501520  1400501776  1400532620  1400532655  140053271X  \\\n",
       "user_id                                                                      \n",
       "A100UD67AHFODS         0.0         0.0         0.0         0.0         0.0   \n",
       "A100WO06OQR8BQ         0.0         0.0         0.0         0.0         0.0   \n",
       "A105S56ODHGJEK         0.0         0.0         0.0         0.0         0.0   \n",
       "A105TOJ6LTVMBG         0.0         0.0         0.0         0.0         0.0   \n",
       "A10AFVU66A79Y1         0.0         0.0         0.0         0.0         0.0   \n",
       "\n",
       "prod_id         ...  B00L5YZCCG  B00L8I6SFY  B00L8QCVL6  B00LA6T0LS  \\\n",
       "user_id         ...                                                   \n",
       "A100UD67AHFODS  ...         0.0         0.0         0.0         0.0   \n",
       "A100WO06OQR8BQ  ...         0.0         0.0         0.0         0.0   \n",
       "A105S56ODHGJEK  ...         0.0         0.0         0.0         0.0   \n",
       "A105TOJ6LTVMBG  ...         0.0         0.0         0.0         0.0   \n",
       "A10AFVU66A79Y1  ...         0.0         0.0         0.0         0.0   \n",
       "\n",
       "prod_id         B00LBZ1Z7K  B00LED02VY  B00LGN7Y3G  B00LGQ6HL8  B00LI4ZZO8  \\\n",
       "user_id                                                                      \n",
       "A100UD67AHFODS         0.0         0.0         0.0         0.0         0.0   \n",
       "A100WO06OQR8BQ         0.0         0.0         0.0         0.0         0.0   \n",
       "A105S56ODHGJEK         0.0         0.0         0.0         0.0         0.0   \n",
       "A105TOJ6LTVMBG         0.0         0.0         0.0         0.0         0.0   \n",
       "A10AFVU66A79Y1         0.0         0.0         0.0         0.0         0.0   \n",
       "\n",
       "prod_id         B00LKG1MC8  \n",
       "user_id                     \n",
       "A100UD67AHFODS         0.0  \n",
       "A100WO06OQR8BQ         0.0  \n",
       "A105S56ODHGJEK         0.0  \n",
       "A105TOJ6LTVMBG         0.0  \n",
       "A10AFVU66A79Y1         0.0  \n",
       "\n",
       "[5 rows x 48190 columns]"
      ]
     },
     "execution_count": 39,
     "metadata": {},
     "output_type": "execute_result"
    }
   ],
   "source": [
    "#Creating the interaction matrix of products and users based on ratings and replacing NaN value with 0\n",
    "final_ratings_matrix = df_final.pivot(index = 'user_id', columns ='prod_id', values = 'rating').fillna(0)\n",
    "print('Shape of final_ratings_matrix: ', final_ratings_matrix.shape)\n",
    "\n",
    "#Finding the number of non-zero entries in the interaction matrix \n",
    "given_num_of_ratings = np.count_nonzero(final_ratings_matrix)\n",
    "print('given_num_of_ratings = ', given_num_of_ratings)\n",
    "\n",
    "#Finding the possible number of ratings as per the number of users and products\n",
    "possible_num_of_ratings = final_ratings_matrix.shape[0] * final_ratings_matrix.shape[1]\n",
    "print('possible_num_of_ratings = ', possible_num_of_ratings)\n",
    "\n",
    "#Density of ratings\n",
    "density = (given_num_of_ratings/possible_num_of_ratings)\n",
    "density *= 100\n",
    "print ('density: {:4.2f}%'.format(density))\n",
    "\n",
    "final_ratings_matrix.head()"
   ]
  },
  {
   "cell_type": "markdown",
   "id": "555d9fbd",
   "metadata": {},
   "source": [
    "# Rank Based Recommendation System"
   ]
  },
  {
   "cell_type": "code",
   "execution_count": 40,
   "id": "11bd7bac",
   "metadata": {},
   "outputs": [
    {
     "data": {
      "text/html": [
       "<div>\n",
       "<style scoped>\n",
       "    .dataframe tbody tr th:only-of-type {\n",
       "        vertical-align: middle;\n",
       "    }\n",
       "\n",
       "    .dataframe tbody tr th {\n",
       "        vertical-align: top;\n",
       "    }\n",
       "\n",
       "    .dataframe thead th {\n",
       "        text-align: right;\n",
       "    }\n",
       "</style>\n",
       "<table border=\"1\" class=\"dataframe\">\n",
       "  <thead>\n",
       "    <tr style=\"text-align: right;\">\n",
       "      <th></th>\n",
       "      <th>avg_rating</th>\n",
       "      <th>rating_count</th>\n",
       "    </tr>\n",
       "    <tr>\n",
       "      <th>prod_id</th>\n",
       "      <th></th>\n",
       "      <th></th>\n",
       "    </tr>\n",
       "  </thead>\n",
       "  <tbody>\n",
       "    <tr>\n",
       "      <th>0594451647</th>\n",
       "      <td>5.0</td>\n",
       "      <td>1</td>\n",
       "    </tr>\n",
       "    <tr>\n",
       "      <th>B003RRY9RS</th>\n",
       "      <td>5.0</td>\n",
       "      <td>1</td>\n",
       "    </tr>\n",
       "    <tr>\n",
       "      <th>B003RR95Q8</th>\n",
       "      <td>5.0</td>\n",
       "      <td>1</td>\n",
       "    </tr>\n",
       "    <tr>\n",
       "      <th>B003RIPMZU</th>\n",
       "      <td>5.0</td>\n",
       "      <td>1</td>\n",
       "    </tr>\n",
       "    <tr>\n",
       "      <th>B003RFRNYQ</th>\n",
       "      <td>5.0</td>\n",
       "      <td>2</td>\n",
       "    </tr>\n",
       "  </tbody>\n",
       "</table>\n",
       "</div>"
      ],
      "text/plain": [
       "            avg_rating  rating_count\n",
       "prod_id                             \n",
       "0594451647         5.0             1\n",
       "B003RRY9RS         5.0             1\n",
       "B003RR95Q8         5.0             1\n",
       "B003RIPMZU         5.0             1\n",
       "B003RFRNYQ         5.0             2"
      ]
     },
     "execution_count": 40,
     "metadata": {},
     "output_type": "execute_result"
    }
   ],
   "source": [
    "#Calculate the average rating for each product \n",
    "average_rating = df_final.groupby('prod_id').mean()['rating']\n",
    "\n",
    "#Calculate the count of ratings for each product\n",
    "count_rating = df_final.groupby('prod_id').count()['rating']\n",
    "\n",
    "#Create a dataframe with calculated average and count of ratings\n",
    "final_rating = pd.DataFrame({'avg_rating':average_rating, 'rating_count':count_rating})\n",
    "\n",
    "#Sort the dataframe by average of ratings\n",
    "final_rating = final_rating.sort_values(by='avg_rating',ascending=False)\n",
    "\n",
    "final_rating.head()"
   ]
  },
  {
   "cell_type": "code",
   "execution_count": 42,
   "id": "573826d5",
   "metadata": {},
   "outputs": [],
   "source": [
    "#defining a function to get the top n products based on highest average rating and minimum interactions\n",
    "def top_n_products(final_rating, n, min_interaction):\n",
    "    \n",
    "    #Finding products with minimum number of interactions\n",
    "    recommendations = final_rating[final_rating['rating_count']>min_interaction]\n",
    "    \n",
    "    #Sorting values w.r.t average rating \n",
    "    recommendations = recommendations.sort_values('avg_rating',ascending=False)\n",
    "    \n",
    "    return recommendations.index[:n]"
   ]
  },
  {
   "cell_type": "code",
   "execution_count": 43,
   "id": "e7e1c0f1",
   "metadata": {},
   "outputs": [
    {
     "data": {
      "text/plain": [
       "['B001TH7GUU', 'B003ES5ZUU', 'B0019EHU8G', 'B006W8U2MU', 'B000QUUFRW']"
      ]
     },
     "execution_count": 43,
     "metadata": {},
     "output_type": "execute_result"
    }
   ],
   "source": [
    "#Recommending top 5 products with 50 minimum interactions based on popularity\n",
    "\n",
    "list(top_n_products(final_rating, 5, 50))"
   ]
  },
  {
   "cell_type": "code",
   "execution_count": 44,
   "id": "67734214",
   "metadata": {},
   "outputs": [
    {
     "data": {
      "text/plain": [
       "['B003ES5ZUU', 'B000N99BBC', 'B007WTAJTO', 'B002V88HFE', 'B004CLYEDC']"
      ]
     },
     "execution_count": 44,
     "metadata": {},
     "output_type": "execute_result"
    }
   ],
   "source": [
    "#Recommending top 5 products with 100 minimum interactions based on popularity\n",
    "\n",
    "list(top_n_products(final_rating, 5, 100))"
   ]
  },
  {
   "cell_type": "markdown",
   "id": "92eaf062",
   "metadata": {},
   "source": [
    "# Collaborative Filtering based Recommendation System"
   ]
  },
  {
   "cell_type": "code",
   "execution_count": 45,
   "id": "857be18d",
   "metadata": {},
   "outputs": [
    {
     "data": {
      "text/html": [
       "<div>\n",
       "<style scoped>\n",
       "    .dataframe tbody tr th:only-of-type {\n",
       "        vertical-align: middle;\n",
       "    }\n",
       "\n",
       "    .dataframe tbody tr th {\n",
       "        vertical-align: top;\n",
       "    }\n",
       "\n",
       "    .dataframe thead th {\n",
       "        text-align: right;\n",
       "    }\n",
       "</style>\n",
       "<table border=\"1\" class=\"dataframe\">\n",
       "  <thead>\n",
       "    <tr style=\"text-align: right;\">\n",
       "      <th>prod_id</th>\n",
       "      <th>0594451647</th>\n",
       "      <th>0594481813</th>\n",
       "      <th>0970407998</th>\n",
       "      <th>0972683275</th>\n",
       "      <th>1400501466</th>\n",
       "      <th>1400501520</th>\n",
       "      <th>1400501776</th>\n",
       "      <th>1400532620</th>\n",
       "      <th>1400532655</th>\n",
       "      <th>140053271X</th>\n",
       "      <th>...</th>\n",
       "      <th>B00L5YZCCG</th>\n",
       "      <th>B00L8I6SFY</th>\n",
       "      <th>B00L8QCVL6</th>\n",
       "      <th>B00LA6T0LS</th>\n",
       "      <th>B00LBZ1Z7K</th>\n",
       "      <th>B00LED02VY</th>\n",
       "      <th>B00LGN7Y3G</th>\n",
       "      <th>B00LGQ6HL8</th>\n",
       "      <th>B00LI4ZZO8</th>\n",
       "      <th>B00LKG1MC8</th>\n",
       "    </tr>\n",
       "    <tr>\n",
       "      <th>user_id</th>\n",
       "      <th></th>\n",
       "      <th></th>\n",
       "      <th></th>\n",
       "      <th></th>\n",
       "      <th></th>\n",
       "      <th></th>\n",
       "      <th></th>\n",
       "      <th></th>\n",
       "      <th></th>\n",
       "      <th></th>\n",
       "      <th></th>\n",
       "      <th></th>\n",
       "      <th></th>\n",
       "      <th></th>\n",
       "      <th></th>\n",
       "      <th></th>\n",
       "      <th></th>\n",
       "      <th></th>\n",
       "      <th></th>\n",
       "      <th></th>\n",
       "      <th></th>\n",
       "    </tr>\n",
       "  </thead>\n",
       "  <tbody>\n",
       "    <tr>\n",
       "      <th>A100UD67AHFODS</th>\n",
       "      <td>0.0</td>\n",
       "      <td>0.0</td>\n",
       "      <td>0.0</td>\n",
       "      <td>0.0</td>\n",
       "      <td>0.0</td>\n",
       "      <td>0.0</td>\n",
       "      <td>0.0</td>\n",
       "      <td>0.0</td>\n",
       "      <td>0.0</td>\n",
       "      <td>0.0</td>\n",
       "      <td>...</td>\n",
       "      <td>0.0</td>\n",
       "      <td>0.0</td>\n",
       "      <td>0.0</td>\n",
       "      <td>0.0</td>\n",
       "      <td>0.0</td>\n",
       "      <td>0.0</td>\n",
       "      <td>0.0</td>\n",
       "      <td>0.0</td>\n",
       "      <td>0.0</td>\n",
       "      <td>0.0</td>\n",
       "    </tr>\n",
       "    <tr>\n",
       "      <th>A100WO06OQR8BQ</th>\n",
       "      <td>0.0</td>\n",
       "      <td>0.0</td>\n",
       "      <td>0.0</td>\n",
       "      <td>0.0</td>\n",
       "      <td>0.0</td>\n",
       "      <td>0.0</td>\n",
       "      <td>0.0</td>\n",
       "      <td>0.0</td>\n",
       "      <td>0.0</td>\n",
       "      <td>0.0</td>\n",
       "      <td>...</td>\n",
       "      <td>0.0</td>\n",
       "      <td>0.0</td>\n",
       "      <td>0.0</td>\n",
       "      <td>0.0</td>\n",
       "      <td>0.0</td>\n",
       "      <td>0.0</td>\n",
       "      <td>0.0</td>\n",
       "      <td>0.0</td>\n",
       "      <td>0.0</td>\n",
       "      <td>0.0</td>\n",
       "    </tr>\n",
       "    <tr>\n",
       "      <th>A105S56ODHGJEK</th>\n",
       "      <td>0.0</td>\n",
       "      <td>0.0</td>\n",
       "      <td>0.0</td>\n",
       "      <td>0.0</td>\n",
       "      <td>0.0</td>\n",
       "      <td>0.0</td>\n",
       "      <td>0.0</td>\n",
       "      <td>0.0</td>\n",
       "      <td>0.0</td>\n",
       "      <td>0.0</td>\n",
       "      <td>...</td>\n",
       "      <td>0.0</td>\n",
       "      <td>0.0</td>\n",
       "      <td>0.0</td>\n",
       "      <td>0.0</td>\n",
       "      <td>0.0</td>\n",
       "      <td>0.0</td>\n",
       "      <td>0.0</td>\n",
       "      <td>0.0</td>\n",
       "      <td>0.0</td>\n",
       "      <td>0.0</td>\n",
       "    </tr>\n",
       "    <tr>\n",
       "      <th>A105TOJ6LTVMBG</th>\n",
       "      <td>0.0</td>\n",
       "      <td>0.0</td>\n",
       "      <td>0.0</td>\n",
       "      <td>0.0</td>\n",
       "      <td>0.0</td>\n",
       "      <td>0.0</td>\n",
       "      <td>0.0</td>\n",
       "      <td>0.0</td>\n",
       "      <td>0.0</td>\n",
       "      <td>0.0</td>\n",
       "      <td>...</td>\n",
       "      <td>0.0</td>\n",
       "      <td>0.0</td>\n",
       "      <td>0.0</td>\n",
       "      <td>0.0</td>\n",
       "      <td>0.0</td>\n",
       "      <td>0.0</td>\n",
       "      <td>0.0</td>\n",
       "      <td>0.0</td>\n",
       "      <td>0.0</td>\n",
       "      <td>0.0</td>\n",
       "    </tr>\n",
       "    <tr>\n",
       "      <th>A10AFVU66A79Y1</th>\n",
       "      <td>0.0</td>\n",
       "      <td>0.0</td>\n",
       "      <td>0.0</td>\n",
       "      <td>0.0</td>\n",
       "      <td>0.0</td>\n",
       "      <td>0.0</td>\n",
       "      <td>0.0</td>\n",
       "      <td>0.0</td>\n",
       "      <td>0.0</td>\n",
       "      <td>0.0</td>\n",
       "      <td>...</td>\n",
       "      <td>0.0</td>\n",
       "      <td>0.0</td>\n",
       "      <td>0.0</td>\n",
       "      <td>0.0</td>\n",
       "      <td>0.0</td>\n",
       "      <td>0.0</td>\n",
       "      <td>0.0</td>\n",
       "      <td>0.0</td>\n",
       "      <td>0.0</td>\n",
       "      <td>0.0</td>\n",
       "    </tr>\n",
       "  </tbody>\n",
       "</table>\n",
       "<p>5 rows × 48190 columns</p>\n",
       "</div>"
      ],
      "text/plain": [
       "prod_id         0594451647  0594481813  0970407998  0972683275  1400501466  \\\n",
       "user_id                                                                      \n",
       "A100UD67AHFODS         0.0         0.0         0.0         0.0         0.0   \n",
       "A100WO06OQR8BQ         0.0         0.0         0.0         0.0         0.0   \n",
       "A105S56ODHGJEK         0.0         0.0         0.0         0.0         0.0   \n",
       "A105TOJ6LTVMBG         0.0         0.0         0.0         0.0         0.0   \n",
       "A10AFVU66A79Y1         0.0         0.0         0.0         0.0         0.0   \n",
       "\n",
       "prod_id         1400501520  1400501776  1400532620  1400532655  140053271X  \\\n",
       "user_id                                                                      \n",
       "A100UD67AHFODS         0.0         0.0         0.0         0.0         0.0   \n",
       "A100WO06OQR8BQ         0.0         0.0         0.0         0.0         0.0   \n",
       "A105S56ODHGJEK         0.0         0.0         0.0         0.0         0.0   \n",
       "A105TOJ6LTVMBG         0.0         0.0         0.0         0.0         0.0   \n",
       "A10AFVU66A79Y1         0.0         0.0         0.0         0.0         0.0   \n",
       "\n",
       "prod_id         ...  B00L5YZCCG  B00L8I6SFY  B00L8QCVL6  B00LA6T0LS  \\\n",
       "user_id         ...                                                   \n",
       "A100UD67AHFODS  ...         0.0         0.0         0.0         0.0   \n",
       "A100WO06OQR8BQ  ...         0.0         0.0         0.0         0.0   \n",
       "A105S56ODHGJEK  ...         0.0         0.0         0.0         0.0   \n",
       "A105TOJ6LTVMBG  ...         0.0         0.0         0.0         0.0   \n",
       "A10AFVU66A79Y1  ...         0.0         0.0         0.0         0.0   \n",
       "\n",
       "prod_id         B00LBZ1Z7K  B00LED02VY  B00LGN7Y3G  B00LGQ6HL8  B00LI4ZZO8  \\\n",
       "user_id                                                                      \n",
       "A100UD67AHFODS         0.0         0.0         0.0         0.0         0.0   \n",
       "A100WO06OQR8BQ         0.0         0.0         0.0         0.0         0.0   \n",
       "A105S56ODHGJEK         0.0         0.0         0.0         0.0         0.0   \n",
       "A105TOJ6LTVMBG         0.0         0.0         0.0         0.0         0.0   \n",
       "A10AFVU66A79Y1         0.0         0.0         0.0         0.0         0.0   \n",
       "\n",
       "prod_id         B00LKG1MC8  \n",
       "user_id                     \n",
       "A100UD67AHFODS         0.0  \n",
       "A100WO06OQR8BQ         0.0  \n",
       "A105S56ODHGJEK         0.0  \n",
       "A105TOJ6LTVMBG         0.0  \n",
       "A10AFVU66A79Y1         0.0  \n",
       "\n",
       "[5 rows x 48190 columns]"
      ]
     },
     "execution_count": 45,
     "metadata": {},
     "output_type": "execute_result"
    }
   ],
   "source": [
    "#User based collaborative filtering\n",
    "\n",
    "final_ratings_matrix.head()"
   ]
  },
  {
   "cell_type": "code",
   "execution_count": 46,
   "id": "40054774",
   "metadata": {},
   "outputs": [
    {
     "data": {
      "text/html": [
       "<div>\n",
       "<style scoped>\n",
       "    .dataframe tbody tr th:only-of-type {\n",
       "        vertical-align: middle;\n",
       "    }\n",
       "\n",
       "    .dataframe tbody tr th {\n",
       "        vertical-align: top;\n",
       "    }\n",
       "\n",
       "    .dataframe thead th {\n",
       "        text-align: right;\n",
       "    }\n",
       "</style>\n",
       "<table border=\"1\" class=\"dataframe\">\n",
       "  <thead>\n",
       "    <tr style=\"text-align: right;\">\n",
       "      <th>prod_id</th>\n",
       "      <th>0594451647</th>\n",
       "      <th>0594481813</th>\n",
       "      <th>0970407998</th>\n",
       "      <th>0972683275</th>\n",
       "      <th>1400501466</th>\n",
       "      <th>1400501520</th>\n",
       "      <th>1400501776</th>\n",
       "      <th>1400532620</th>\n",
       "      <th>1400532655</th>\n",
       "      <th>140053271X</th>\n",
       "      <th>...</th>\n",
       "      <th>B00L5YZCCG</th>\n",
       "      <th>B00L8I6SFY</th>\n",
       "      <th>B00L8QCVL6</th>\n",
       "      <th>B00LA6T0LS</th>\n",
       "      <th>B00LBZ1Z7K</th>\n",
       "      <th>B00LED02VY</th>\n",
       "      <th>B00LGN7Y3G</th>\n",
       "      <th>B00LGQ6HL8</th>\n",
       "      <th>B00LI4ZZO8</th>\n",
       "      <th>B00LKG1MC8</th>\n",
       "    </tr>\n",
       "    <tr>\n",
       "      <th>user_index</th>\n",
       "      <th></th>\n",
       "      <th></th>\n",
       "      <th></th>\n",
       "      <th></th>\n",
       "      <th></th>\n",
       "      <th></th>\n",
       "      <th></th>\n",
       "      <th></th>\n",
       "      <th></th>\n",
       "      <th></th>\n",
       "      <th></th>\n",
       "      <th></th>\n",
       "      <th></th>\n",
       "      <th></th>\n",
       "      <th></th>\n",
       "      <th></th>\n",
       "      <th></th>\n",
       "      <th></th>\n",
       "      <th></th>\n",
       "      <th></th>\n",
       "      <th></th>\n",
       "    </tr>\n",
       "  </thead>\n",
       "  <tbody>\n",
       "    <tr>\n",
       "      <th>0</th>\n",
       "      <td>0.0</td>\n",
       "      <td>0.0</td>\n",
       "      <td>0.0</td>\n",
       "      <td>0.0</td>\n",
       "      <td>0.0</td>\n",
       "      <td>0.0</td>\n",
       "      <td>0.0</td>\n",
       "      <td>0.0</td>\n",
       "      <td>0.0</td>\n",
       "      <td>0.0</td>\n",
       "      <td>...</td>\n",
       "      <td>0.0</td>\n",
       "      <td>0.0</td>\n",
       "      <td>0.0</td>\n",
       "      <td>0.0</td>\n",
       "      <td>0.0</td>\n",
       "      <td>0.0</td>\n",
       "      <td>0.0</td>\n",
       "      <td>0.0</td>\n",
       "      <td>0.0</td>\n",
       "      <td>0.0</td>\n",
       "    </tr>\n",
       "    <tr>\n",
       "      <th>1</th>\n",
       "      <td>0.0</td>\n",
       "      <td>0.0</td>\n",
       "      <td>0.0</td>\n",
       "      <td>0.0</td>\n",
       "      <td>0.0</td>\n",
       "      <td>0.0</td>\n",
       "      <td>0.0</td>\n",
       "      <td>0.0</td>\n",
       "      <td>0.0</td>\n",
       "      <td>0.0</td>\n",
       "      <td>...</td>\n",
       "      <td>0.0</td>\n",
       "      <td>0.0</td>\n",
       "      <td>0.0</td>\n",
       "      <td>0.0</td>\n",
       "      <td>0.0</td>\n",
       "      <td>0.0</td>\n",
       "      <td>0.0</td>\n",
       "      <td>0.0</td>\n",
       "      <td>0.0</td>\n",
       "      <td>0.0</td>\n",
       "    </tr>\n",
       "    <tr>\n",
       "      <th>2</th>\n",
       "      <td>0.0</td>\n",
       "      <td>0.0</td>\n",
       "      <td>0.0</td>\n",
       "      <td>0.0</td>\n",
       "      <td>0.0</td>\n",
       "      <td>0.0</td>\n",
       "      <td>0.0</td>\n",
       "      <td>0.0</td>\n",
       "      <td>0.0</td>\n",
       "      <td>0.0</td>\n",
       "      <td>...</td>\n",
       "      <td>0.0</td>\n",
       "      <td>0.0</td>\n",
       "      <td>0.0</td>\n",
       "      <td>0.0</td>\n",
       "      <td>0.0</td>\n",
       "      <td>0.0</td>\n",
       "      <td>0.0</td>\n",
       "      <td>0.0</td>\n",
       "      <td>0.0</td>\n",
       "      <td>0.0</td>\n",
       "    </tr>\n",
       "    <tr>\n",
       "      <th>3</th>\n",
       "      <td>0.0</td>\n",
       "      <td>0.0</td>\n",
       "      <td>0.0</td>\n",
       "      <td>0.0</td>\n",
       "      <td>0.0</td>\n",
       "      <td>0.0</td>\n",
       "      <td>0.0</td>\n",
       "      <td>0.0</td>\n",
       "      <td>0.0</td>\n",
       "      <td>0.0</td>\n",
       "      <td>...</td>\n",
       "      <td>0.0</td>\n",
       "      <td>0.0</td>\n",
       "      <td>0.0</td>\n",
       "      <td>0.0</td>\n",
       "      <td>0.0</td>\n",
       "      <td>0.0</td>\n",
       "      <td>0.0</td>\n",
       "      <td>0.0</td>\n",
       "      <td>0.0</td>\n",
       "      <td>0.0</td>\n",
       "    </tr>\n",
       "    <tr>\n",
       "      <th>4</th>\n",
       "      <td>0.0</td>\n",
       "      <td>0.0</td>\n",
       "      <td>0.0</td>\n",
       "      <td>0.0</td>\n",
       "      <td>0.0</td>\n",
       "      <td>0.0</td>\n",
       "      <td>0.0</td>\n",
       "      <td>0.0</td>\n",
       "      <td>0.0</td>\n",
       "      <td>0.0</td>\n",
       "      <td>...</td>\n",
       "      <td>0.0</td>\n",
       "      <td>0.0</td>\n",
       "      <td>0.0</td>\n",
       "      <td>0.0</td>\n",
       "      <td>0.0</td>\n",
       "      <td>0.0</td>\n",
       "      <td>0.0</td>\n",
       "      <td>0.0</td>\n",
       "      <td>0.0</td>\n",
       "      <td>0.0</td>\n",
       "    </tr>\n",
       "  </tbody>\n",
       "</table>\n",
       "<p>5 rows × 48190 columns</p>\n",
       "</div>"
      ],
      "text/plain": [
       "prod_id     0594451647  0594481813  0970407998  0972683275  1400501466  \\\n",
       "user_index                                                               \n",
       "0                  0.0         0.0         0.0         0.0         0.0   \n",
       "1                  0.0         0.0         0.0         0.0         0.0   \n",
       "2                  0.0         0.0         0.0         0.0         0.0   \n",
       "3                  0.0         0.0         0.0         0.0         0.0   \n",
       "4                  0.0         0.0         0.0         0.0         0.0   \n",
       "\n",
       "prod_id     1400501520  1400501776  1400532620  1400532655  140053271X  ...  \\\n",
       "user_index                                                              ...   \n",
       "0                  0.0         0.0         0.0         0.0         0.0  ...   \n",
       "1                  0.0         0.0         0.0         0.0         0.0  ...   \n",
       "2                  0.0         0.0         0.0         0.0         0.0  ...   \n",
       "3                  0.0         0.0         0.0         0.0         0.0  ...   \n",
       "4                  0.0         0.0         0.0         0.0         0.0  ...   \n",
       "\n",
       "prod_id     B00L5YZCCG  B00L8I6SFY  B00L8QCVL6  B00LA6T0LS  B00LBZ1Z7K  \\\n",
       "user_index                                                               \n",
       "0                  0.0         0.0         0.0         0.0         0.0   \n",
       "1                  0.0         0.0         0.0         0.0         0.0   \n",
       "2                  0.0         0.0         0.0         0.0         0.0   \n",
       "3                  0.0         0.0         0.0         0.0         0.0   \n",
       "4                  0.0         0.0         0.0         0.0         0.0   \n",
       "\n",
       "prod_id     B00LED02VY  B00LGN7Y3G  B00LGQ6HL8  B00LI4ZZO8  B00LKG1MC8  \n",
       "user_index                                                              \n",
       "0                  0.0         0.0         0.0         0.0         0.0  \n",
       "1                  0.0         0.0         0.0         0.0         0.0  \n",
       "2                  0.0         0.0         0.0         0.0         0.0  \n",
       "3                  0.0         0.0         0.0         0.0         0.0  \n",
       "4                  0.0         0.0         0.0         0.0         0.0  \n",
       "\n",
       "[5 rows x 48190 columns]"
      ]
     },
     "execution_count": 46,
     "metadata": {},
     "output_type": "execute_result"
    }
   ],
   "source": [
    "final_ratings_matrix['user_index'] = np.arange(0, final_ratings_matrix.shape[0])\n",
    "final_ratings_matrix.set_index(['user_index'], inplace=True)\n",
    "\n",
    "# Actual ratings given by users\n",
    "final_ratings_matrix.head()"
   ]
  },
  {
   "cell_type": "code",
   "execution_count": 47,
   "id": "50908605",
   "metadata": {},
   "outputs": [],
   "source": [
    "# defining a function to get similar users\n",
    "def similar_users(user_index, interactions_matrix):\n",
    "    similarity = []\n",
    "    for user in range(0, interactions_matrix.shape[0]): #  .shape[0] gives number of rows\n",
    "        \n",
    "        #finding cosine similarity between the user_id and each user\n",
    "        sim = cosine_similarity([interactions_matrix.loc[user_index]], [interactions_matrix.loc[user]])\n",
    "        \n",
    "        #Appending the user and the corresponding similarity score with user_id as a tuple\n",
    "        similarity.append((user,sim))\n",
    "        \n",
    "    similarity.sort(key=lambda x: x[1], reverse=True)\n",
    "    most_similar_users = [tup[0] for tup in similarity] #Extract the user from each tuple in the sorted list\n",
    "    similarity_score = [tup[1] for tup in similarity] ##Extracting the similarity score from each tuple in the sorted list\n",
    "   \n",
    "    #Remove the original user and its similarity score and keep only other similar users \n",
    "    most_similar_users.remove(user_index)\n",
    "    similarity_score.remove(similarity_score[0])\n",
    "       \n",
    "    return most_similar_users, similarity_score"
   ]
  },
  {
   "cell_type": "code",
   "execution_count": 48,
   "id": "33a6829c",
   "metadata": {},
   "outputs": [
    {
     "data": {
      "text/plain": [
       "[320, 12, 793, 261, 156, 1493, 1250, 567, 753, 1360]"
      ]
     },
     "execution_count": 48,
     "metadata": {},
     "output_type": "execute_result"
    }
   ],
   "source": [
    "#Finding out top 10 similar users to the user index 3 and their similarity score\n",
    "\n",
    "similar = similar_users(3,final_ratings_matrix)[0][0:10]\n",
    "similar"
   ]
  },
  {
   "cell_type": "code",
   "execution_count": 49,
   "id": "b19f86ba",
   "metadata": {},
   "outputs": [
    {
     "data": {
      "text/plain": [
       "[array([[0.05662371]]),\n",
       " array([[0.05549645]]),\n",
       " array([[0.05098326]]),\n",
       " array([[0.05024185]]),\n",
       " array([[0.05003874]]),\n",
       " array([[0.04930111]]),\n",
       " array([[0.04889354]]),\n",
       " array([[0.04672744]]),\n",
       " array([[0.04637283]]),\n",
       " array([[0.04492668]])]"
      ]
     },
     "execution_count": 49,
     "metadata": {},
     "output_type": "execute_result"
    }
   ],
   "source": [
    "#Print the similarity score\n",
    "similar_users(3,final_ratings_matrix)[1][0:10]"
   ]
  },
  {
   "cell_type": "code",
   "execution_count": 50,
   "id": "19d42ed9",
   "metadata": {},
   "outputs": [
    {
     "data": {
      "text/plain": [
       "[991, 1065, 1012, 1402, 1371, 1278, 1518, 692, 785, 161]"
      ]
     },
     "execution_count": 50,
     "metadata": {},
     "output_type": "execute_result"
    }
   ],
   "source": [
    "#Finding out top 10 similar users to the user index 1521 and their similarity score\n",
    "\n",
    "similar = similar_users(1521, final_ratings_matrix)[0][0:10]\n",
    "similar"
   ]
  },
  {
   "cell_type": "code",
   "execution_count": 51,
   "id": "8374c7f0",
   "metadata": {},
   "outputs": [
    {
     "data": {
      "text/plain": [
       "[array([[0.10889304]]),\n",
       " array([[0.10538068]]),\n",
       " array([[0.1026758]]),\n",
       " array([[0.09418291]]),\n",
       " array([[0.09149062]]),\n",
       " array([[0.09135361]]),\n",
       " array([[0.09028898]]),\n",
       " array([[0.08735684]]),\n",
       " array([[0.08673386]]),\n",
       " array([[0.08478815]])]"
      ]
     },
     "execution_count": 51,
     "metadata": {},
     "output_type": "execute_result"
    }
   ],
   "source": [
    "#Print the similarity score\n",
    "similar_users(1521,final_ratings_matrix)[1][0:10]"
   ]
  },
  {
   "cell_type": "code",
   "execution_count": 52,
   "id": "99667c37",
   "metadata": {},
   "outputs": [],
   "source": [
    "# defining the recommendations function to get recommendations by using the similar users' preferences\n",
    "def recommendations(user_index, num_of_products, interactions_matrix):\n",
    "    \n",
    "    #Saving similar users using the function similar_users defined above\n",
    "    most_similar_users = similar_users(user_index, interactions_matrix)[0]\n",
    "    \n",
    "    #Finding product IDs with which the user_id has interacted\n",
    "    prod_ids = set(list(interactions_matrix.columns[np.where(interactions_matrix.loc[user_index] > 0)]))\n",
    "    recommendations = []\n",
    "    \n",
    "    observed_interactions = prod_ids.copy()\n",
    "    for similar_user in most_similar_users:\n",
    "        if len(recommendations) < num_of_products:\n",
    "            \n",
    "            #Finding 'n' products which have been rated by similar users but not by the user_id\n",
    "            similar_user_prod_ids = set(list(interactions_matrix.columns[np.where(interactions_matrix.loc[similar_user] > 0)]))\n",
    "            recommendations.extend(list(similar_user_prod_ids.difference(observed_interactions)))\n",
    "            observed_interactions = observed_interactions.union(similar_user_prod_ids)\n",
    "        else:\n",
    "            break\n",
    "    \n",
    "    return recommendations[:num_of_products]"
   ]
  },
  {
   "cell_type": "code",
   "execution_count": 53,
   "id": "cc53aaf9",
   "metadata": {},
   "outputs": [
    {
     "data": {
      "text/plain": [
       "['B001GUW2PY', 'B000LG13AY', 'B005FAPYXS', 'B00150UIF6', 'B0016E5X5Q']"
      ]
     },
     "execution_count": 53,
     "metadata": {},
     "output_type": "execute_result"
    }
   ],
   "source": [
    "#Recommend 5 products to user index 3 based on similarity based collaborative filtering\n",
    "\n",
    "recommendations(3,5,final_ratings_matrix)"
   ]
  },
  {
   "cell_type": "code",
   "execution_count": 54,
   "id": "88b65371",
   "metadata": {},
   "outputs": [
    {
     "data": {
      "text/plain": [
       "['B0040YFPSO', 'B002P8M4IQ', 'B005UA65YK', 'B007WVA2PI', 'B005LIDN14']"
      ]
     },
     "execution_count": 54,
     "metadata": {},
     "output_type": "execute_result"
    }
   ],
   "source": [
    "#Recommend 5 products to user index 1521 based on similarity based collaborative filtering\n",
    "\n",
    "recommendations(1521,5,final_ratings_matrix)"
   ]
  },
  {
   "cell_type": "code",
   "execution_count": null,
   "id": "82fa1e50",
   "metadata": {},
   "outputs": [],
   "source": []
  }
 ],
 "metadata": {
  "kernelspec": {
   "display_name": "Python 3 (ipykernel)",
   "language": "python",
   "name": "python3"
  },
  "language_info": {
   "codemirror_mode": {
    "name": "ipython",
    "version": 3
   },
   "file_extension": ".py",
   "mimetype": "text/x-python",
   "name": "python",
   "nbconvert_exporter": "python",
   "pygments_lexer": "ipython3",
   "version": "3.9.12"
  }
 },
 "nbformat": 4,
 "nbformat_minor": 5
}
